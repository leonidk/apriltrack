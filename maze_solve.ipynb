{
 "cells": [
  {
   "cell_type": "code",
   "execution_count": 19,
   "metadata": {
    "collapsed": true
   },
   "outputs": [],
   "source": [
    "import matplotlib.pyplot as plt\n",
    "import numpy as np\n",
    "from skimage.transform import rescale, resize, downscale_local_mean\n",
    "from skimage.measure import block_reduce\n",
    "%matplotlib inline"
   ]
  },
  {
   "cell_type": "code",
   "execution_count": 114,
   "metadata": {},
   "outputs": [
    {
     "data": {
      "text/plain": [
       "<matplotlib.image.AxesImage at 0x7ffb665ad7d0>"
      ]
     },
     "execution_count": 114,
     "metadata": {},
     "output_type": "execute_result"
    },
    {
     "data": {
      "image/png": "[encoded data removed]",
      "text/plain": [
       "<matplotlib.figure.Figure at 0x7ffb6d4d1d10>"
      ]
     },
     "metadata": {},
     "output_type": "display_data"
    }
   ],
   "source": [
    "img = plt.imread('maze.jpg')\n",
    "\n",
    "#img = rescale(img, 1/32.0)\n",
    "img = downscale_local_mean(img, (10,10,1)) /255.0\n",
    "plt.subplot(131)\n",
    "plt.imshow(img)\n",
    "\n",
    "img = np.pad(img,((3,1),(3,1),(0,0)),mode='constant',constant_values=0)\n",
    "for y in xrange(img.shape[0]):\n",
    "    for x in xrange(img.shape[1]):\n",
    "        if img[y,x,:].sum() == 0:\n",
    "            img[y,x,:] = [0,0,1]\n",
    "        if img[y,x,:].max() - img[y,x,:].min() < 0.4:\n",
    "            img[y,x,:] = [0,0,1]\n",
    "        if img[y,x,0] == img[y,x,:].max():\n",
    "            img[y,x,:] = [1,0,0]\n",
    "        if img[y,x,2] == img[y,x,:].max():\n",
    "            img[y,x,:] = [0,0,1]\n",
    "        if img[y,x,1] == img[y,x,:].max():\n",
    "            img[y,x,:] = [1,1,1]\n",
    "plt.subplot(132)\n",
    "plt.imshow(img)\n",
    "maze_viz = img.copy()\n",
    "maze_viz = block_reduce(maze_viz,(13,13,1),np.mean)\n",
    "plt.subplot(131)\n",
    "plt.imshow(maze_viz)\n",
    "\n",
    "for y in xrange(maze_viz.shape[0]):\n",
    "    for x in xrange(maze_viz.shape[1]):\n",
    "        if maze_viz[y,x,:].sum() > 1.5:\n",
    "            maze_viz[y,x,:] = [0,0,0]\n",
    "        elif maze_viz[y,x,0] > 0.55:\n",
    "            maze_viz[y,x,:] = [1,0,0]\n",
    "        else:\n",
    "            maze_viz[y,x,:] = [0,0,1]\n",
    "img = maze_viz\n",
    "plt.subplot(133)\n",
    "plt.imshow(maze_viz)\n",
    "\n",
    "#maze_size = 10\n",
    "#maze_px = 1\n",
    "#start = (0,0)\n",
    "#end = (5,5)\n",
    "#img = img[:,:,[2,1,0]]\n",
    "#maze_viz = img.copy()\n",
    "#for y in xrange(end[0]*maze_px,(end[0]+1)*(maze_px)):\n",
    "#    for x in xrange(end[1]*maze_px,(end[1]+1)*(maze_px)):\n",
    "#        maze_viz[y,x,:] = 0.0\n",
    "#plt.imshow(maze_viz,interpolation='nearest')"
   ]
  },
  {
   "cell_type": "code",
   "execution_count": 115,
   "metadata": {},
   "outputs": [
    {
     "data": {
      "text/plain": [
       "<matplotlib.image.AxesImage at 0x7ffb663dc510>"
      ]
     },
     "execution_count": 115,
     "metadata": {},
     "output_type": "execute_result"
    },
    {
     "data": {
      "image/png": "[encoded data removed]",
      "text/plain": [
       "<matplotlib.figure.Figure at 0x7ffb674f6750>"
      ]
     },
     "metadata": {},
     "output_type": "display_data"
    }
   ],
   "source": [
    "up = (0.75,0,0)\n",
    "down = (0.25,0,0.0)\n",
    "left = (0.0,0.75,0)\n",
    "right = (0.0,0.25,0)\n",
    "\n",
    "sol = np.zeros_like(img)\n",
    "dist = np.zeros_like(img)\n",
    "\n",
    "visited = np.zeros_like(img)\n",
    "visited[maze_viz[:,:,2] > 0.5] = 1\n",
    "\n",
    "queue = []\n",
    "for y in xrange(img.shape[0]):\n",
    "    for x in xrange(img.shape[1]):\n",
    "        if maze_viz[y,x,:].sum() == 0:\n",
    "            queue.append([y,x,0,0])\n",
    "            visited[y,x,:] = 1\n",
    "steps = 0\n",
    "while len(queue) > 0:\n",
    "    y,x,c,s = queue.pop(0)\n",
    "    if y+1 < img.shape[0] and visited[y+1,x,0] < 1:\n",
    "        queue.append([y+1,x,down,s+1])\n",
    "    if x+1 < img.shape[1] and visited[y,x+1,0] < 1:\n",
    "        queue.append([y,x+1,right,s+1])\n",
    "    if y-1 >= 0 and visited[y-1,x,0] < 1:\n",
    "        queue.append([y-1,x,up,s+1])\n",
    "    if x-1 >= 0 and visited[y,x-1,0] < 1:\n",
    "        queue.append([y,x-1,left,s+1])\n",
    "    sol[y,x,:] = c\n",
    "    dist[y,x,:] = s\n",
    "    visited[y,x,:] = 1\n",
    "    #print visited.sum()/float(visited.shape[0]*visited.shape[1]*visited.shape[2]) \n",
    "plt.imshow(sol,interpolation='nearest')"
   ]
  },
  {
   "cell_type": "code",
   "execution_count": 116,
   "metadata": {},
   "outputs": [
    {
     "name": "stdout",
     "output_type": "stream",
     "text": [
      "[ 0.  0.  0.]\n"
     ]
    },
    {
     "name": "stderr",
     "output_type": "stream",
     "text": [
      "/usr/local/lib/python2.7/dist-packages/ipykernel_launcher.py:37: RuntimeWarning: invalid value encountered in divide\n"
     ]
    },
    {
     "data": {
      "text/plain": [
       "<matplotlib.image.AxesImage at 0x7ffb66302d10>"
      ]
     },
     "execution_count": 116,
     "metadata": {},
     "output_type": "execute_result"
    },
    {
     "data": {
      "image/png": "[encoded data removed]",
      "text/plain": [
       "<matplotlib.figure.Figure at 0x7ffb6d47f510>"
      ]
     },
     "metadata": {},
     "output_type": "display_data"
    }
   ],
   "source": [
    "target_pos = np.zeros([sol.shape[0],sol.shape[1],3]) #only using 0 and 1\n",
    "visited =  np.zeros([sol.shape[0],sol.shape[1]])\n",
    "visited[maze_viz[:,:,2] > 0.5] = 1\n",
    "\n",
    "print(sol[0,0,:])\n",
    "def f(y,x):\n",
    "    #print y,x\n",
    "    return { # inverse\n",
    "        up : (False,(y+1,x)),\n",
    "        down : (False, (y-1,x)),\n",
    "        left : (False, (y,x+1)),\n",
    "        right : (False,(y,x-1)),\n",
    "        (0,0,0) : (True,(y,x)),\n",
    "    }[tuple(sol[y,x])]\n",
    "\n",
    "for y in xrange(img.shape[0]):\n",
    "    for x in xrange(img.shape[1]):\n",
    "        if visited[y,x] == 0:\n",
    "            queue = [(y,x)]\n",
    "            val = sol[y,x]\n",
    "\n",
    "            while True:\n",
    "                yn,xn = queue[-1]\n",
    "                #print f(yn,xn),queue\n",
    "                end, new_pos = f(yn,xn)\n",
    "                #print end,new_pos,queue\n",
    "                if end:\n",
    "                    break\n",
    "                if (sol[new_pos[0],new_pos[1],:] != val).any():\n",
    "                    break\n",
    "                queue.append(new_pos)\n",
    "            #print new_pos,queue\n",
    "            for q in queue:\n",
    "                target_pos[q[0],q[1],0] = new_pos[0]\n",
    "                target_pos[q[0],q[1],1] = new_pos[1]\n",
    "                visited[q[0],q[1]] = 1\n",
    "vis_target =target_pos[:,:,:]/np.max(target_pos[:,:,:],(0,1))\n",
    "plt.imshow(vis_target,interpolation='nearest')"
   ]
  },
  {
   "cell_type": "code",
   "execution_count": 117,
   "metadata": {},
   "outputs": [
    {
     "data": {
      "image/png": "[encoded data removed]",
      "text/plain": [
       "<matplotlib.figure.Figure at 0x7ffb64ee2750>"
      ]
     },
     "metadata": {},
     "output_type": "display_data"
    }
   ],
   "source": [
    "dist /= dist.max()\n",
    "plt.subplot(2,2,1)\n",
    "plt.imshow(maze_viz,interpolation='nearest')\n",
    "plt.xticks([])\n",
    "plt.title('maze')\n",
    "plt.yticks([])\n",
    "plt.subplot(2,2,2)\n",
    "plt.imshow(dist,interpolation='nearest')\n",
    "plt.xticks([])\n",
    "plt.title('distance to goal')\n",
    "plt.yticks([])\n",
    "plt.subplot(2,2,3)\n",
    "plt.imshow(sol,interpolation='nearest')\n",
    "plt.title('solution (g: l/r, r:u/d)')\n",
    "plt.xticks([])\n",
    "plt.yticks([])\n",
    "plt.subplot(2,2,4)\n",
    "plt.imshow(vis_target,interpolation='nearest')\n",
    "plt.title('target location (red:y,green:x)')\n",
    "plt.xticks([])\n",
    "plt.yticks([])\n",
    "plt.tight_layout()"
   ]
  },
  {
   "cell_type": "code",
   "execution_count": null,
   "metadata": {
    "collapsed": true
   },
   "outputs": [],
   "source": []
  }
 ],
 "metadata": {
  "kernelspec": {
   "display_name": "Python 2",
   "language": "python",
   "name": "python2"
  },
  "language_info": {
   "codemirror_mode": {
    "name": "ipython",
    "version": 2
   },
   "file_extension": ".py",
   "mimetype": "text/x-python",
   "name": "python",
   "nbconvert_exporter": "python",
   "pygments_lexer": "ipython2",
   "version": "2.7.12"
  }
 },
 "nbformat": 4,
 "nbformat_minor": 2
}
