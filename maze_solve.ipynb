{
 "cells": [
  {
   "cell_type": "code",
   "execution_count": null,
   "metadata": {
    "collapsed": true
   },
   "outputs": [],
   "source": [
    "import matplotlib.pyplot as plt\n",
    "import numpy as np\n",
    "%matplotlib inline"
   ]
  },
  {
   "cell_type": "code",
   "execution_count": null,
   "metadata": {},
   "outputs": [],
   "source": [
    "img = plt.imread('MazeS_10x10.png')\n",
    "maze_size = 10\n",
    "maze_px = 1\n",
    "start = (0,0)\n",
    "end = (4,4)\n",
    "\n",
    "maze_viz = img.copy()\n",
    "for y in xrange(start[0]*maze_px,(start[0]+1)*(maze_px)):\n",
    "    for x in xrange(start[1]*maze_px,(start[1]+1)*(maze_px)):\n",
    "        maze_viz[y,x,:] = 0.4\n",
    "for y in xrange(end[0]*maze_px,(end[0]+1)*(maze_px)):\n",
    "    for x in xrange(end[1]*maze_px,(end[1]+1)*(maze_px)):\n",
    "        maze_viz[y,x,:] = 0.0\n",
    "plt.imshow(maze_viz,interpolation='nearest')"
   ]
  },
  {
   "cell_type": "code",
   "execution_count": null,
   "metadata": {},
   "outputs": [],
   "source": [
    "up = (0.75,0,0)\n",
    "down = (0.25,0,0.0)\n",
    "left = (0.0,0.75,0)\n",
    "right = (0.0,0.25,0)\n",
    "\n",
    "sol = np.zeros_like(img)\n",
    "dist = np.zeros_like(img)\n",
    "\n",
    "visited = np.zeros_like(img)\n",
    "visited[maze_viz[:,:,0] > 0.5] = 1\n",
    "\n",
    "queue = []\n",
    "for y in xrange(img.shape[0]):\n",
    "    for x in xrange(img.shape[1]):\n",
    "        if maze_viz[y,x,:].sum() == 0:\n",
    "            queue.append([y,x,0,0])\n",
    "            visited[y,x,:] = 1\n",
    "steps = 0\n",
    "while len(queue) > 0:\n",
    "    y,x,c,s = queue[0]\n",
    "    queue = queue[1:]\n",
    "    if y+1 < img.shape[0] and visited[y+1,x,0] < 1:\n",
    "        queue.append([y+1,x,down,s+1])\n",
    "    if x+1 < img.shape[1] and visited[y,x+1,0] < 1:\n",
    "        queue.append([y,x+1,right,s+1])\n",
    "    if y-1 >= 0 and visited[y-1,x,0] < 1:\n",
    "        queue.append([y-1,x,up,s+1])\n",
    "    if x-1 >= 0 and visited[y,x-1,0] < 1:\n",
    "        queue.append([y,x-1,left,s+1])\n",
    "    sol[y,x,:] = c\n",
    "    dist[y,x,:] = s\n",
    "    visited[y,x,:] = 1\n",
    "plt.imshow(sol,interpolation='nearest')"
   ]
  },
  {
   "cell_type": "code",
   "execution_count": null,
   "metadata": {},
   "outputs": [],
   "source": [
    "dist /= dist.max()\n",
    "plt.subplot(1,3,1)\n",
    "plt.imshow(maze_viz,interpolation='nearest')\n",
    "plt.xticks([])\n",
    "plt.title('maze')\n",
    "plt.yticks([])\n",
    "plt.subplot(1,3,2)\n",
    "plt.imshow(dist,interpolation='nearest')\n",
    "plt.xticks([])\n",
    "plt.title('distance to goal')\n",
    "plt.yticks([])\n",
    "plt.subplot(1,3,3)\n",
    "plt.imshow(sol,interpolation='nearest')\n",
    "plt.title('solution (g: l/r, r:u/d)')\n",
    "plt.xticks([])\n",
    "plt.yticks([])\n",
    "plt.tight_layout()"
   ]
  },
  {
   "cell_type": "code",
   "execution_count": null,
   "metadata": {
    "collapsed": true
   },
   "outputs": [],
   "source": []
  },
  {
   "cell_type": "code",
   "execution_count": null,
   "metadata": {
    "collapsed": true
   },
   "outputs": [],
   "source": []
  }
 ],
 "metadata": {
  "kernelspec": {
   "display_name": "Python 2",
   "language": "python",
   "name": "python2"
  },
  "language_info": {
   "codemirror_mode": {
    "name": "ipython",
    "version": 2
   },
   "file_extension": ".py",
   "mimetype": "text/x-python",
   "name": "python",
   "nbconvert_exporter": "python",
   "pygments_lexer": "ipython2",
   "version": "2.7.12"
  }
 },
 "nbformat": 4,
 "nbformat_minor": 2
}
